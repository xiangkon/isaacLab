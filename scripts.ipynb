{
 "cells": [
  {
   "cell_type": "code",
   "execution_count": null,
   "id": "86ef0aff",
   "metadata": {
    "vscode": {
     "languageId": "plaintext"
    }
   },
   "outputs": [],
   "source": [
    "# 遥操作\n",
    "\n",
    "python scripts/teleop.py --task Isaac-Lift-Cube-Piper-IK-Rel-v0 --num_envs 1 --teleop_device keyboard"
   ]
  }
 ],
 "metadata": {
  "language_info": {
   "name": "python"
  }
 },
 "nbformat": 4,
 "nbformat_minor": 5
}
